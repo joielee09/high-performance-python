{
  "nbformat": 4,
  "nbformat_minor": 0,
  "metadata": {
    "colab": {
      "name": "chapter 2",
      "provenance": [],
      "collapsed_sections": []
    },
    "kernelspec": {
      "display_name": "Python 3",
      "name": "python3"
    },
    "language_info": {
      "name": "python"
    }
  },
  "cells": [
    {
      "cell_type": "code",
      "metadata": {
        "colab": {
          "base_uri": "https://localhost:8080/"
        },
        "id": "phpdUimudNji",
        "outputId": "4fa4bfda-aab8-48de-ffe8-04b021c8bf78"
      },
      "source": [
        "cd /content/drive/MyDrive/study/EffectivePython/chp.2"
      ],
      "execution_count": null,
      "outputs": [
        {
          "output_type": "stream",
          "text": [
            "/content/drive/MyDrive/study/EffectivePython/chp.2\n"
          ],
          "name": "stdout"
        }
      ]
    },
    {
      "cell_type": "markdown",
      "metadata": {
        "id": "0c0B0nNqaekM"
      },
      "source": [
        "# 2장 프로파일링으로 병목 지점 찾기\n",
        "\n",
        "- 코드에서 RAM 병목 지점을 찾는 방법\n",
        "- CPU와 메모리 사용량을 프로파일링하는 방법\n",
        "- 바람직한 프로파일링의 깊이\n",
        "- 장시간 실행되는 앱 프로파일링 방법\n",
        "- C파이썬의 내부동작\n",
        "- 성능 튜닝 중 코드의 올바름을 유지하는 방법"
      ]
    },
    {
      "cell_type": "markdown",
      "metadata": {
        "id": "c19lhtOGaxNa"
      },
      "source": [
        "---\n",
        "### 효과적으로 프로파일링하기\n",
        "\n",
        "RAM을 많이 사용하는 부분을 찾는다.\n",
        "테스트할 부분만 떼어내서 테스트한다.\n",
        "\n",
        "- %timeit 또는 time.time()\n",
        "- cProfile: 어떤 함수가 가장 오래 걸리는가\n",
        "- line_profiler: 한 줄 씩 탐색 (장시간 프로세스: py-spy)\n",
        "- memory_profiler: RAM 사용량이 높은 이유를 찾는다.\n",
        "- 파이썬 바이트코드\n",
        "- 프로파일링과 단위테스트"
      ]
    },
    {
      "cell_type": "markdown",
      "metadata": {
        "id": "VmgUvYEIbxaZ"
      },
      "source": [
        "---\n",
        "\n",
        "time.time()\n",
        "\n"
      ]
    },
    {
      "cell_type": "code",
      "metadata": {
        "colab": {
          "base_uri": "https://localhost:8080/"
        },
        "id": "luFUlrKX461o",
        "outputId": "a415a8e3-2e5a-4b5e-cbad-00e4a7db14f2"
      },
      "source": [
        "\"\"\"Julia set generator with timing decorator\"\"\"\n",
        "import time\n",
        "from functools import wraps\n",
        "\n",
        "# area of complex space to investigate\n",
        "x1, x2, y1, y2 = -1.8, 1.8, -1.8, 1.8\n",
        "c_real, c_imag = -0.62772, -.42193\n",
        "\n",
        "\n",
        "def timefn(fn):\n",
        "    @wraps(fn)\n",
        "    def measure_time(*args, **kwargs):\n",
        "        t1 = time.time()\n",
        "        result = fn(*args, **kwargs)\n",
        "        t2 = time.time()\n",
        "        print(f\"@timefn: {fn.__name__} took {t2 - t1} seconds\")\n",
        "        return result\n",
        "    return measure_time\n",
        "\n",
        "\n",
        "@timefn\n",
        "def calculate_z_serial_purepython(maxiter, zs, cs):\n",
        "    \"\"\"Calculate output list using Julia update rule\"\"\"\n",
        "    output = [0] * len(zs)\n",
        "    for i in range(len(zs)):\n",
        "        n = 0\n",
        "        z = zs[i]\n",
        "        c = cs[i]\n",
        "        while abs(z) < 2 and n < maxiter:\n",
        "            z = z * z + c\n",
        "            n += 1\n",
        "        output[i] = n\n",
        "    return output\n",
        "\n",
        "\n",
        "def calc_pure_python(draw_output, desired_width, max_iterations):\n",
        "    \"\"\"Create a list of complex co-ordinates (zs) and complex parameters (cs), build Julia set and display\"\"\"\n",
        "    x_step = (x2 - x1) / desired_width\n",
        "    y_step = (y1 - y2) / desired_width\n",
        "    x = []\n",
        "    y = []\n",
        "    ycoord = y2\n",
        "    while ycoord > y1:\n",
        "        y.append(ycoord)\n",
        "        ycoord += y_step\n",
        "    xcoord = x1\n",
        "    while xcoord < x2:\n",
        "        x.append(xcoord)\n",
        "        xcoord += x_step\n",
        "    # build a list of co-ordinates and the initial condition for each cell.\n",
        "    # Note that our initial condition is a constant and could easily be removed,\n",
        "    # we use it to simulate a real-world scenario with several inputs to our function\n",
        "    zs = []\n",
        "    cs = []\n",
        "    for ycoord in y:\n",
        "        for xcoord in x:\n",
        "            zs.append(complex(xcoord, ycoord))\n",
        "            cs.append(complex(c_real, c_imag))\n",
        "\n",
        "    print(\"Length of x:\", len(x))\n",
        "    print(\"Total elements:\", len(zs))\n",
        "    start_time = time.time()\n",
        "    output = calculate_z_serial_purepython(max_iterations, zs, cs)\n",
        "    end_time = time.time()\n",
        "    secs = end_time - start_time\n",
        "    print(calculate_z_serial_purepython.__name__ + \" took\", secs, \"seconds\")\n",
        "\n",
        "    assert sum(output) == 33219980  # this sum is expected for 1000^2 grid with 300 iterations\n",
        "\n",
        "\n",
        "# Calculate the Julia set using a pure Python solution with\n",
        "# reasonable defaults for a laptop\n",
        "# set draw_output to True to use PIL to draw an image\n",
        "calc_pure_python(draw_output=False, desired_width=1000, max_iterations=300)"
      ],
      "execution_count": null,
      "outputs": [
        {
          "output_type": "stream",
          "text": [
            "Length of x: 1000\n",
            "Total elements: 1000000\n",
            "@timefn: calculate_z_serial_purepython took 8.82549524307251 seconds\n",
            "calculate_z_serial_purepython took 8.82620096206665 seconds\n"
          ],
          "name": "stdout"
        }
      ]
    },
    {
      "cell_type": "code",
      "metadata": {
        "id": "CIDA60wmcUtK"
      },
      "source": [
        "# from IPython.display import Image\n",
        "# Image(filename='test.png') "
      ],
      "execution_count": null,
      "outputs": []
    },
    {
      "cell_type": "markdown",
      "metadata": {
        "id": "XwcT2Uuxb1Op"
      },
      "source": [
        "---\n",
        "\n",
        "[%timeit](https://docs.python.org/ko/3/library/timeit.html)\n",
        "\n",
        "- 일시적으로 GC를 비활성화 한다."
      ]
    },
    {
      "cell_type": "code",
      "metadata": {
        "colab": {
          "base_uri": "https://localhost:8080/"
        },
        "id": "4adR-EHLcksz",
        "outputId": "c2b93575-c1ad-443b-98f7-b5058138d691"
      },
      "source": [
        "!python -m timeit -n 5 -r 1 -s \"import julia1\" \"julia1.calc_pure_python(draw_output=False, desired_width=1000, max_iterations=300)\""
      ],
      "execution_count": null,
      "outputs": [
        {
          "output_type": "stream",
          "text": [
            "Length of x: 1000\n",
            "Total elements: 1000000\n",
            "calculate_z_serial_purepython took 7.671994686126709 seconds\n",
            "Length of x: 1000\n",
            "Total elements: 1000000\n",
            "calculate_z_serial_purepython took 7.461464881896973 seconds\n",
            "Length of x: 1000\n",
            "Total elements: 1000000\n",
            "calculate_z_serial_purepython took 7.454515218734741 seconds\n",
            "Length of x: 1000\n",
            "Total elements: 1000000\n",
            "calculate_z_serial_purepython took 7.5059814453125 seconds\n",
            "Length of x: 1000\n",
            "Total elements: 1000000\n",
            "calculate_z_serial_purepython took 7.4686291217803955 seconds\n",
            "5 loops, best of 1: 8.09 sec per loop\n"
          ],
          "name": "stdout"
        }
      ]
    },
    {
      "cell_type": "markdown",
      "metadata": {
        "id": "RjhPR7GDd435"
      },
      "source": [
        "---\n",
        "\n",
        "cProfile\n"
      ]
    },
    {
      "cell_type": "code",
      "metadata": {
        "id": "MT65eb--b0XK",
        "colab": {
          "base_uri": "https://localhost:8080/"
        },
        "outputId": "e2293515-e5a6-4a45-e06c-5e112a16467a"
      },
      "source": [
        "!python -m cProfile -s cumulative julia1_nopil.py"
      ],
      "execution_count": null,
      "outputs": [
        {
          "output_type": "stream",
          "text": [
            "Length of x: 1000\n",
            "Total elements: 1000000\n",
            "calculate_z_serial_purepython took 11.773769617080688 seconds\n",
            "         36221995 function calls in 12.635 seconds\n",
            "\n",
            "   Ordered by: cumulative time\n",
            "\n",
            "   ncalls  tottime  percall  cumtime  percall filename:lineno(function)\n",
            "        1    0.000    0.000   12.635   12.635 {built-in method builtins.exec}\n",
            "        1    0.043    0.043   12.635   12.635 julia1_nopil.py:1(<module>)\n",
            "        1    0.628    0.628   12.592   12.592 julia1_nopil.py:23(calc_pure_python)\n",
            "        1    8.510    8.510   11.774   11.774 julia1_nopil.py:9(calculate_z_serial_purepython)\n",
            " 34219980    3.264    0.000    3.264    0.000 {built-in method builtins.abs}\n",
            "  2002000    0.184    0.000    0.184    0.000 {method 'append' of 'list' objects}\n",
            "        1    0.006    0.006    0.006    0.006 {built-in method builtins.sum}\n",
            "        3    0.000    0.000    0.000    0.000 {built-in method builtins.print}\n",
            "        2    0.000    0.000    0.000    0.000 {built-in method time.time}\n",
            "        4    0.000    0.000    0.000    0.000 {built-in method builtins.len}\n",
            "        1    0.000    0.000    0.000    0.000 {method 'disable' of '_lsprof.Profiler' objects}\n",
            "\n",
            "\n"
          ],
          "name": "stdout"
        }
      ]
    },
    {
      "cell_type": "code",
      "metadata": {
        "id": "UL48E08Wb0Zh",
        "colab": {
          "base_uri": "https://localhost:8080/"
        },
        "outputId": "aa8ee281-606f-4b66-af58-d168e76ead9e"
      },
      "source": [
        "import pstats\n",
        "p = pstats.Stats(\"profile.stats\")\n",
        "p.sort_stats(\"cumulative\")"
      ],
      "execution_count": null,
      "outputs": [
        {
          "output_type": "execute_result",
          "data": {
            "text/plain": [
              "<pstats.Stats at 0x7ffa4ba539d0>"
            ]
          },
          "metadata": {
            "tags": []
          },
          "execution_count": 13
        }
      ]
    },
    {
      "cell_type": "code",
      "metadata": {
        "id": "dgJw2GDcb0ca",
        "colab": {
          "base_uri": "https://localhost:8080/"
        },
        "outputId": "6dbd200d-9fb0-4e05-acf0-8ad43bc6897b"
      },
      "source": [
        "p.print_stats()"
      ],
      "execution_count": null,
      "outputs": [
        {
          "output_type": "stream",
          "text": [
            "Thu Jul 15 04:52:13 2021    profile.stats\n",
            "\n",
            "         36221995 function calls in 15.299 seconds\n",
            "\n",
            "   Ordered by: cumulative time\n",
            "\n",
            "   ncalls  tottime  percall  cumtime  percall filename:lineno(function)\n",
            "        1    0.000    0.000   15.299   15.299 {built-in method builtins.exec}\n",
            "        1    0.047    0.047   15.299   15.299 julia1_nopil.py:1(<module>)\n",
            "        1    0.497    0.497   15.252   15.252 julia1_nopil.py:23(calc_pure_python)\n",
            "        1   10.131   10.131   14.552   14.552 julia1_nopil.py:9(calculate_z_serial_purepython)\n",
            " 34219980    4.421    0.000    4.421    0.000 {built-in method builtins.abs}\n",
            "  2002000    0.195    0.000    0.195    0.000 {method 'append' of 'list' objects}\n",
            "        1    0.007    0.007    0.007    0.007 {built-in method builtins.sum}\n",
            "        3    0.001    0.000    0.001    0.000 {built-in method builtins.print}\n",
            "        4    0.000    0.000    0.000    0.000 {built-in method builtins.len}\n",
            "        2    0.000    0.000    0.000    0.000 {built-in method time.time}\n",
            "        1    0.000    0.000    0.000    0.000 {method 'disable' of '_lsprof.Profiler' objects}\n",
            "\n",
            "\n"
          ],
          "name": "stdout"
        },
        {
          "output_type": "execute_result",
          "data": {
            "text/plain": [
              "<pstats.Stats at 0x7ffa4ba539d0>"
            ]
          },
          "metadata": {
            "tags": []
          },
          "execution_count": 14
        }
      ]
    },
    {
      "cell_type": "code",
      "metadata": {
        "id": "PF_vQbBcb0es",
        "colab": {
          "base_uri": "https://localhost:8080/"
        },
        "outputId": "5bbe53da-3415-48e4-c60e-c5332037bfb6"
      },
      "source": [
        "p.print_callers()"
      ],
      "execution_count": null,
      "outputs": [
        {
          "output_type": "stream",
          "text": [
            "   Ordered by: cumulative time\n",
            "\n",
            "Function                                          was called by...\n",
            "                                                      ncalls  tottime  cumtime\n",
            "{built-in method builtins.exec}                   <- \n",
            "julia1_nopil.py:1(<module>)                       <-       1    0.047   15.299  {built-in method builtins.exec}\n",
            "julia1_nopil.py:23(calc_pure_python)              <-       1    0.497   15.252  julia1_nopil.py:1(<module>)\n",
            "julia1_nopil.py:9(calculate_z_serial_purepython)  <-       1   10.131   14.552  julia1_nopil.py:23(calc_pure_python)\n",
            "{built-in method builtins.abs}                    <- 34219980    4.421    4.421  julia1_nopil.py:9(calculate_z_serial_purepython)\n",
            "{method 'append' of 'list' objects}               <- 2002000    0.195    0.195  julia1_nopil.py:23(calc_pure_python)\n",
            "{built-in method builtins.sum}                    <-       1    0.007    0.007  julia1_nopil.py:23(calc_pure_python)\n",
            "{built-in method builtins.print}                  <-       3    0.001    0.001  julia1_nopil.py:23(calc_pure_python)\n",
            "{built-in method builtins.len}                    <-       2    0.000    0.000  julia1_nopil.py:9(calculate_z_serial_purepython)\n",
            "                                                           2    0.000    0.000  julia1_nopil.py:23(calc_pure_python)\n",
            "{built-in method time.time}                       <-       2    0.000    0.000  julia1_nopil.py:23(calc_pure_python)\n",
            "{method 'disable' of '_lsprof.Profiler' objects}  <- \n",
            "\n",
            "\n"
          ],
          "name": "stdout"
        },
        {
          "output_type": "execute_result",
          "data": {
            "text/plain": [
              "<pstats.Stats at 0x7ffa4ba539d0>"
            ]
          },
          "metadata": {
            "tags": []
          },
          "execution_count": 15
        }
      ]
    },
    {
      "cell_type": "code",
      "metadata": {
        "id": "w_Mi0GsUb0hY",
        "colab": {
          "base_uri": "https://localhost:8080/"
        },
        "outputId": "e076a189-87b4-4cd6-a930-a3c0893ec896"
      },
      "source": [
        "p.print_callees()"
      ],
      "execution_count": null,
      "outputs": [
        {
          "output_type": "stream",
          "text": [
            "   Ordered by: cumulative time\n",
            "\n",
            "Function                                          called...\n",
            "                                                      ncalls  tottime  cumtime\n",
            "{built-in method builtins.exec}                   ->       1    0.047   15.299  julia1_nopil.py:1(<module>)\n",
            "julia1_nopil.py:1(<module>)                       ->       1    0.497   15.252  julia1_nopil.py:23(calc_pure_python)\n",
            "julia1_nopil.py:23(calc_pure_python)              ->       1   10.131   14.552  julia1_nopil.py:9(calculate_z_serial_purepython)\n",
            "                                                           2    0.000    0.000  {built-in method builtins.len}\n",
            "                                                           3    0.001    0.001  {built-in method builtins.print}\n",
            "                                                           1    0.007    0.007  {built-in method builtins.sum}\n",
            "                                                           2    0.000    0.000  {built-in method time.time}\n",
            "                                                     2002000    0.195    0.195  {method 'append' of 'list' objects}\n",
            "julia1_nopil.py:9(calculate_z_serial_purepython)  -> 34219980    4.421    4.421  {built-in method builtins.abs}\n",
            "                                                           2    0.000    0.000  {built-in method builtins.len}\n",
            "{built-in method builtins.abs}                    -> \n",
            "{method 'append' of 'list' objects}               -> \n",
            "{built-in method builtins.sum}                    -> \n",
            "{built-in method builtins.print}                  -> \n",
            "{built-in method builtins.len}                    -> \n",
            "{built-in method time.time}                       -> \n",
            "{method 'disable' of '_lsprof.Profiler' objects}  -> \n",
            "\n",
            "\n"
          ],
          "name": "stdout"
        },
        {
          "output_type": "execute_result",
          "data": {
            "text/plain": [
              "<pstats.Stats at 0x7ffa4ba539d0>"
            ]
          },
          "metadata": {
            "tags": []
          },
          "execution_count": 16
        }
      ]
    },
    {
      "cell_type": "markdown",
      "metadata": {
        "id": "7JQPTfJMeIcd"
      },
      "source": [
        "---\n",
        "\n",
        " SnakeViz로 cProfile 결과 시각화\n",
        " "
      ]
    },
    {
      "cell_type": "code",
      "metadata": {
        "id": "YHAFq5Ghb0j9",
        "colab": {
          "base_uri": "https://localhost:8080/"
        },
        "outputId": "f0a4cdf2-2749-40c5-a98a-d61cdf3c9994"
      },
      "source": [
        "!python -m snakeviz -s profile.stats"
      ],
      "execution_count": null,
      "outputs": [
        {
          "output_type": "stream",
          "text": [
            "/usr/bin/python3: No module named snakeviz\n"
          ],
          "name": "stdout"
        }
      ]
    },
    {
      "cell_type": "markdown",
      "metadata": {
        "id": "dU5D0mfMeRIj"
      },
      "source": [
        "---\n",
        "\n",
        " line_profiler\n",
        " "
      ]
    },
    {
      "cell_type": "code",
      "metadata": {
        "colab": {
          "base_uri": "https://localhost:8080/"
        },
        "id": "0YIVbDrKeebD",
        "outputId": "caa7f94c-9143-49cc-fe29-1cb6c88d8547"
      },
      "source": [
        "!pip install line-profiler"
      ],
      "execution_count": null,
      "outputs": [
        {
          "output_type": "stream",
          "text": [
            "Collecting line-profiler\n",
            "  Downloading line_profiler-3.3.0-cp37-cp37m-manylinux2010_x86_64.whl (63 kB)\n",
            "\u001b[?25l\r\u001b[K     |█████▏                          | 10 kB 22.3 MB/s eta 0:00:01\r\u001b[K     |██████████▎                     | 20 kB 28.2 MB/s eta 0:00:01\r\u001b[K     |███████████████▍                | 30 kB 15.1 MB/s eta 0:00:01\r\u001b[K     |████████████████████▌           | 40 kB 11.5 MB/s eta 0:00:01\r\u001b[K     |█████████████████████████▋      | 51 kB 7.3 MB/s eta 0:00:01\r\u001b[K     |██████████████████████████████▉ | 61 kB 7.7 MB/s eta 0:00:01\r\u001b[K     |████████████████████████████████| 63 kB 2.3 MB/s \n",
            "\u001b[?25hRequirement already satisfied: IPython>=0.13 in /usr/local/lib/python3.7/dist-packages (from line-profiler) (5.5.0)\n",
            "Requirement already satisfied: prompt-toolkit<2.0.0,>=1.0.4 in /usr/local/lib/python3.7/dist-packages (from IPython>=0.13->line-profiler) (1.0.18)\n",
            "Requirement already satisfied: simplegeneric>0.8 in /usr/local/lib/python3.7/dist-packages (from IPython>=0.13->line-profiler) (0.8.1)\n",
            "Requirement already satisfied: decorator in /usr/local/lib/python3.7/dist-packages (from IPython>=0.13->line-profiler) (4.4.2)\n",
            "Requirement already satisfied: pygments in /usr/local/lib/python3.7/dist-packages (from IPython>=0.13->line-profiler) (2.6.1)\n",
            "Requirement already satisfied: traitlets>=4.2 in /usr/local/lib/python3.7/dist-packages (from IPython>=0.13->line-profiler) (5.0.5)\n",
            "Requirement already satisfied: pexpect in /usr/local/lib/python3.7/dist-packages (from IPython>=0.13->line-profiler) (4.8.0)\n",
            "Requirement already satisfied: pickleshare in /usr/local/lib/python3.7/dist-packages (from IPython>=0.13->line-profiler) (0.7.5)\n",
            "Requirement already satisfied: setuptools>=18.5 in /usr/local/lib/python3.7/dist-packages (from IPython>=0.13->line-profiler) (57.2.0)\n",
            "Requirement already satisfied: six>=1.9.0 in /usr/local/lib/python3.7/dist-packages (from prompt-toolkit<2.0.0,>=1.0.4->IPython>=0.13->line-profiler) (1.15.0)\n",
            "Requirement already satisfied: wcwidth in /usr/local/lib/python3.7/dist-packages (from prompt-toolkit<2.0.0,>=1.0.4->IPython>=0.13->line-profiler) (0.2.5)\n",
            "Requirement already satisfied: ipython-genutils in /usr/local/lib/python3.7/dist-packages (from traitlets>=4.2->IPython>=0.13->line-profiler) (0.2.0)\n",
            "Requirement already satisfied: ptyprocess>=0.5 in /usr/local/lib/python3.7/dist-packages (from pexpect->IPython>=0.13->line-profiler) (0.7.0)\n",
            "Installing collected packages: line-profiler\n",
            "Successfully installed line-profiler-3.3.0\n"
          ],
          "name": "stdout"
        }
      ]
    },
    {
      "cell_type": "code",
      "metadata": {
        "colab": {
          "base_uri": "https://localhost:8080/"
        },
        "id": "4x9lo1uIeQSV",
        "outputId": "ae3bdd8a-442c-45a9-e8ff-8b307774c497"
      },
      "source": [
        "!kernprof -l -v julia1_lineprofiler.py"
      ],
      "execution_count": null,
      "outputs": [
        {
          "output_type": "stream",
          "text": [
            "Length of x: 1000\n",
            "Total elements: 1000000\n",
            "calculate_z_serial_purepython took 93.70192384719849 seconds\n",
            "Wrote profile results to julia1_lineprofiler.py.lprof\n",
            "Timer unit: 1e-06 s\n",
            "\n",
            "Total time: 53.0277 s\n",
            "File: julia1_lineprofiler.py\n",
            "Function: calculate_z_serial_purepython at line 9\n",
            "\n",
            "Line #      Hits         Time  Per Hit   % Time  Line Contents\n",
            "==============================================================\n",
            "     9                                           @profile\n",
            "    10                                           def calculate_z_serial_purepython(maxiter, zs, cs):\n",
            "    11                                               \"\"\"Calculate output list using Julia update rule\"\"\"\n",
            "    12         1       2246.0   2246.0      0.0      output = [0] * len(zs)\n",
            "    13   1000001     423738.0      0.4      0.8      for i in range(len(zs)):\n",
            "    14   1000000     397221.0      0.4      0.7          n = 0\n",
            "    15   1000000     451012.0      0.5      0.9          z = zs[i]   \n",
            "    16   1000000     434059.0      0.4      0.8          c = cs[i]\n",
            "    17  34219980   20192870.0      0.6     38.1          while abs(z) < 2 and n < maxiter :\n",
            "    18  33219980   16104284.0      0.5     30.4              z = z * z + c\n",
            "    19  33219980   14576221.0      0.4     27.5              n += 1\n",
            "    20   1000000     446078.0      0.4      0.8          output[i] = n\n",
            "    21         1          0.0      0.0      0.0      return output\n",
            "\n",
            "Total time: 96.2676 s\n",
            "File: julia1_lineprofiler.py\n",
            "Function: calc_pure_python at line 24\n",
            "\n",
            "Line #      Hits         Time  Per Hit   % Time  Line Contents\n",
            "==============================================================\n",
            "    24                                           @profile\n",
            "    25                                           def calc_pure_python(draw_output, desired_width, max_iterations):\n",
            "    26                                               \"\"\"Create a list of complex co-ordinates (zs) and complex parameters (cs), build Julia set and display\"\"\"\n",
            "    27         1          3.0      3.0      0.0      x_step = (x2 - x1) / desired_width\n",
            "    28         1          1.0      1.0      0.0      y_step = (y1 - y2) / desired_width\n",
            "    29         1          1.0      1.0      0.0      x = []\n",
            "    30         1          1.0      1.0      0.0      y = []\n",
            "    31         1          1.0      1.0      0.0      ycoord = y2\n",
            "    32      1001        670.0      0.7      0.0      while ycoord > y1:\n",
            "    33      1000        679.0      0.7      0.0          y.append(ycoord)\n",
            "    34      1000        626.0      0.6      0.0          ycoord += y_step\n",
            "    35         1          0.0      0.0      0.0      xcoord = x1\n",
            "    36      1001        664.0      0.7      0.0      while xcoord < x2:\n",
            "    37      1000        681.0      0.7      0.0          x.append(xcoord)\n",
            "    38      1000        644.0      0.6      0.0          xcoord += x_step\n",
            "    39                                               # set width and height to the generated pixel counts, rather than the\n",
            "    40                                               # pre-rounding desired width and height\n",
            "    41                                               # build a list of co-ordinates and the initial condition for each cell.\n",
            "    42                                               # Note that our initial condition is a constant and could easily be removed,\n",
            "    43                                               # we use it to simulate a real-world scenario with several inputs to our function\n",
            "    44         1          0.0      0.0      0.0      zs = []\n",
            "    45         1          1.0      1.0      0.0      cs = []\n",
            "    46      1001        702.0      0.7      0.0      for ycoord in y:\n",
            "    47   1001000     639260.0      0.6      0.7          for xcoord in x:\n",
            "    48   1000000     925157.0      0.9      1.0              zs.append(complex(xcoord, ycoord))\n",
            "    49   1000000     989897.0      1.0      1.0              cs.append(complex(c_real, c_imag))\n",
            "    50                                           \n",
            "    51         1         44.0     44.0      0.0      print(\"Length of x:\", len(x))\n",
            "    52         1          9.0      9.0      0.0      print(\"Total elements:\", len(zs))\n",
            "    53         1          4.0      4.0      0.0      start_time = time.time()\n",
            "    54         1   93701910.0 93701910.0     97.3      output = calculate_z_serial_purepython(max_iterations, zs, cs)\n",
            "    55         1          5.0      5.0      0.0      end_time = time.time()\n",
            "    56         1          1.0      1.0      0.0      secs = end_time - start_time\n",
            "    57         1         61.0     61.0      0.0      print(calculate_z_serial_purepython.__name__ + \" took\", secs, \"seconds\")\n",
            "    58                                           \n",
            "    59         1       6603.0   6603.0      0.0      assert sum(output) == 33219980  # this sum is expected for 1000^2 grid with 300 iterations\n",
            "\n"
          ],
          "name": "stdout"
        }
      ]
    },
    {
      "cell_type": "markdown",
      "metadata": {
        "id": "fcqf5YORep-t"
      },
      "source": [
        "---\n",
        "\n",
        "memory_profiler\n"
      ]
    },
    {
      "cell_type": "code",
      "metadata": {
        "id": "7LyO2fKt6cyw"
      },
      "source": [
        "def lis():\n",
        "  [i*i for i in range(100000)]"
      ],
      "execution_count": null,
      "outputs": []
    },
    {
      "cell_type": "code",
      "metadata": {
        "id": "LJYvroME6c5k"
      },
      "source": [
        "def tup():\n",
        "  (i*i for i in range(100000))"
      ],
      "execution_count": null,
      "outputs": []
    },
    {
      "cell_type": "code",
      "metadata": {
        "id": "KqEZNdXDb0mg",
        "colab": {
          "base_uri": "https://localhost:8080/"
        },
        "outputId": "f89f6bbf-1961-45fd-be38-4155155d84f9"
      },
      "source": [
        "!python -m memory_profiler lis()"
      ],
      "execution_count": null,
      "outputs": [
        {
          "output_type": "stream",
          "text": [
            "/bin/bash: -c: line 0: syntax error near unexpected token `('\n",
            "/bin/bash: -c: line 0: `python -m memory_profiler lis()'\n"
          ],
          "name": "stdout"
        }
      ]
    },
    {
      "cell_type": "markdown",
      "metadata": {
        "id": "Yyv6UNtDexCk"
      },
      "source": [
        "---\n",
        "\n",
        "PySPy\n",
        "\n"
      ]
    },
    {
      "cell_type": "code",
      "metadata": {
        "id": "KzO4dq_2b0o8",
        "colab": {
          "base_uri": "https://localhost:8080/"
        },
        "outputId": "6ec8ce65-e647-4908-e046-9cf31b14e5c8"
      },
      "source": [
        "!ps -A -o pid,rss,cmd | ack python"
      ],
      "execution_count": null,
      "outputs": [
        {
          "output_type": "stream",
          "text": [
            "/bin/bash: ack: command not found\n"
          ],
          "name": "stdout"
        }
      ]
    },
    {
      "cell_type": "markdown",
      "metadata": {
        "id": "_ZUMDjoPe1Lr"
      },
      "source": [
        "---\n",
        "\n",
        "바이트코드: 내부 작동\n",
        "\n"
      ]
    },
    {
      "cell_type": "code",
      "metadata": {
        "colab": {
          "base_uri": "https://localhost:8080/"
        },
        "id": "2s1yVfWMezZX",
        "outputId": "70ff95a1-2cc5-4b3b-839e-5dbbb4ac3fd9"
      },
      "source": [
        "import dis\n",
        "import julia1_nopil\n",
        "dis.dis(julia1_nopil.calculate_z_serial_purepython)"
      ],
      "execution_count": null,
      "outputs": [
        {
          "output_type": "stream",
          "text": [
            " 11           0 LOAD_CONST               1 (0)\n",
            "              2 BUILD_LIST               1\n",
            "              4 LOAD_GLOBAL              0 (len)\n",
            "              6 LOAD_FAST                1 (zs)\n",
            "              8 CALL_FUNCTION            1\n",
            "             10 BINARY_MULTIPLY\n",
            "             12 STORE_FAST               3 (output)\n",
            "\n",
            " 12          14 SETUP_LOOP              94 (to 110)\n",
            "             16 LOAD_GLOBAL              1 (range)\n",
            "             18 LOAD_GLOBAL              0 (len)\n",
            "             20 LOAD_FAST                1 (zs)\n",
            "             22 CALL_FUNCTION            1\n",
            "             24 CALL_FUNCTION            1\n",
            "             26 GET_ITER\n",
            "        >>   28 FOR_ITER                78 (to 108)\n",
            "             30 STORE_FAST               4 (i)\n",
            "\n",
            " 13          32 LOAD_CONST               1 (0)\n",
            "             34 STORE_FAST               5 (n)\n",
            "\n",
            " 14          36 LOAD_FAST                1 (zs)\n",
            "             38 LOAD_FAST                4 (i)\n",
            "             40 BINARY_SUBSCR\n",
            "             42 STORE_FAST               6 (z)\n",
            "\n",
            " 15          44 LOAD_FAST                2 (cs)\n",
            "             46 LOAD_FAST                4 (i)\n",
            "             48 BINARY_SUBSCR\n",
            "             50 STORE_FAST               7 (c)\n",
            "\n",
            " 16          52 SETUP_LOOP              44 (to 98)\n",
            "        >>   54 LOAD_GLOBAL              2 (abs)\n",
            "             56 LOAD_FAST                6 (z)\n",
            "             58 CALL_FUNCTION            1\n",
            "             60 LOAD_CONST               2 (2)\n",
            "             62 COMPARE_OP               0 (<)\n",
            "             64 POP_JUMP_IF_FALSE       96\n",
            "             66 LOAD_FAST                5 (n)\n",
            "             68 LOAD_FAST                0 (maxiter)\n",
            "             70 COMPARE_OP               0 (<)\n",
            "             72 POP_JUMP_IF_FALSE       96\n",
            "\n",
            " 17          74 LOAD_FAST                6 (z)\n",
            "             76 LOAD_FAST                6 (z)\n",
            "             78 BINARY_MULTIPLY\n",
            "             80 LOAD_FAST                7 (c)\n",
            "             82 BINARY_ADD\n",
            "             84 STORE_FAST               6 (z)\n",
            "\n",
            " 18          86 LOAD_FAST                5 (n)\n",
            "             88 LOAD_CONST               3 (1)\n",
            "             90 INPLACE_ADD\n",
            "             92 STORE_FAST               5 (n)\n",
            "             94 JUMP_ABSOLUTE           54\n",
            "        >>   96 POP_BLOCK\n",
            "\n",
            " 19     >>   98 LOAD_FAST                5 (n)\n",
            "            100 LOAD_FAST                3 (output)\n",
            "            102 LOAD_FAST                4 (i)\n",
            "            104 STORE_SUBSCR\n",
            "            106 JUMP_ABSOLUTE           28\n",
            "        >>  108 POP_BLOCK\n",
            "\n",
            " 20     >>  110 LOAD_FAST                3 (output)\n",
            "            112 RETURN_VALUE\n"
          ],
          "name": "stdout"
        }
      ]
    },
    {
      "cell_type": "code",
      "metadata": {
        "id": "4XdLiU35ezb8"
      },
      "source": [
        "def fn_expressive(upper=1_000_000):\n",
        "    total = 0\n",
        "    for n in range(upper):\n",
        "        total += n\n",
        "    return total\n",
        "\n",
        "def fn_terse(upper=1_000_000):\n",
        "    return sum(range(upper))\n",
        "\n",
        "assert fn_expressive() == fn_terse(), \"Expect identical results from both functions\""
      ],
      "execution_count": null,
      "outputs": []
    },
    {
      "cell_type": "code",
      "metadata": {
        "colab": {
          "base_uri": "https://localhost:8080/"
        },
        "id": "EJds26d_ezeY",
        "outputId": "c8a73672-6dfc-4726-dbe7-d880a785037c"
      },
      "source": [
        "%timeit fn_expressive()"
      ],
      "execution_count": null,
      "outputs": [
        {
          "output_type": "stream",
          "text": [
            "10 loops, best of 5: 72.9 ms per loop\n"
          ],
          "name": "stdout"
        }
      ]
    },
    {
      "cell_type": "code",
      "metadata": {
        "colab": {
          "base_uri": "https://localhost:8080/"
        },
        "id": "7jYGiVNBezg6",
        "outputId": "68f97d1d-6e76-4b35-b7e2-f9343bd3aa8b"
      },
      "source": [
        "%timeit fn_terse()"
      ],
      "execution_count": null,
      "outputs": [
        {
          "output_type": "stream",
          "text": [
            "10 loops, best of 5: 21.8 ms per loop\n"
          ],
          "name": "stdout"
        }
      ]
    },
    {
      "cell_type": "code",
      "metadata": {
        "colab": {
          "base_uri": "https://localhost:8080/"
        },
        "id": "K5_ykvBYezjA",
        "outputId": "28b8a836-9cf6-4d96-9762-4d524b4cd86a"
      },
      "source": [
        "import dis\n",
        "dis.dis(fn_expressive)"
      ],
      "execution_count": null,
      "outputs": [
        {
          "output_type": "stream",
          "text": [
            "  2           0 LOAD_CONST               1 (0)\n",
            "              2 STORE_FAST               1 (total)\n",
            "\n",
            "  3           4 SETUP_LOOP              24 (to 30)\n",
            "              6 LOAD_GLOBAL              0 (range)\n",
            "              8 LOAD_FAST                0 (upper)\n",
            "             10 CALL_FUNCTION            1\n",
            "             12 GET_ITER\n",
            "        >>   14 FOR_ITER                12 (to 28)\n",
            "             16 STORE_FAST               2 (n)\n",
            "\n",
            "  4          18 LOAD_FAST                1 (total)\n",
            "             20 LOAD_FAST                2 (n)\n",
            "             22 INPLACE_ADD\n",
            "             24 STORE_FAST               1 (total)\n",
            "             26 JUMP_ABSOLUTE           14\n",
            "        >>   28 POP_BLOCK\n",
            "\n",
            "  5     >>   30 LOAD_FAST                1 (total)\n",
            "             32 RETURN_VALUE\n"
          ],
          "name": "stdout"
        }
      ]
    },
    {
      "cell_type": "markdown",
      "metadata": {
        "id": "1KaY4ZrOfCMT"
      },
      "source": [
        "---\n",
        "\n",
        "최적화 중에 단위 테스트\n",
        "\n"
      ]
    },
    {
      "cell_type": "code",
      "metadata": {
        "id": "k-i09YjPb0sM",
        "colab": {
          "base_uri": "https://localhost:8080/"
        },
        "outputId": "9cdd6aa2-95bb-43bf-ab67-0a7e45ffdaca"
      },
      "source": [
        "import time\n",
        "\n",
        "def test_some_fn():\n",
        "    \"\"\"Check basic behaviours for our function\"\"\"\n",
        "    assert some_fn(2) == 4\n",
        "    assert some_fn(1) == 1\n",
        "    assert some_fn(-1) == 1\n",
        "\n",
        "\n",
        "# check for line_profiler or memory_profiler in the local scope, both\n",
        "# are injected by their respective tools or they're absent\n",
        "# if these tools aren't being used (in which case we need to substite\n",
        "# a dummy @profile decorator)\n",
        "if 'line_profiler' not in dir() and 'profile' not in dir():\n",
        "    def profile(func):\n",
        "        def inner(*args, **kwargs):\n",
        "            return func(*args, **kwargs)\n",
        "        return inner\n",
        "\n",
        "@profile\n",
        "def some_fn(useful_input):\n",
        "    \"\"\"An expensive function that we wish to both test and profile\"\"\"\n",
        "    # artificial 'we're doing something clever and expensive' delay\n",
        "    time.sleep(1) \n",
        "    return useful_input ** 2\n",
        "\n",
        "print(f\"Example call `some_fn(2)` == {some_fn(2)}\")"
      ],
      "execution_count": null,
      "outputs": [
        {
          "output_type": "stream",
          "text": [
            "Example call `some_fn(2)` == 4\n"
          ],
          "name": "stdout"
        }
      ]
    },
    {
      "cell_type": "code",
      "metadata": {
        "colab": {
          "base_uri": "https://localhost:8080/"
        },
        "id": "ECPqBX_mfEUf",
        "outputId": "0ec9831e-9b90-4150-fd75-e09ed84e4be7"
      },
      "source": [
        "!pytest utility.py"
      ],
      "execution_count": null,
      "outputs": [
        {
          "output_type": "stream",
          "text": [
            "\u001b[1m============================= test session starts ==============================\u001b[0m\n",
            "platform linux2 -- Python 2.7.17, pytest-3.6.4, py-1.8.0, pluggy-0.7.1\n",
            "rootdir: /content/drive/My Drive/study/EffectivePython/chp.2, inifile:\n",
            "collected 0 items / 1 errors                                                   \u001b[0m\n",
            "\n",
            "==================================== ERRORS ====================================\n",
            "_________________________ ERROR collecting utility.py __________________________\n",
            "\u001b[31m/usr/local/lib/python2.7/dist-packages/_pytest/python.py:468: in _importtestmodule\n",
            "    mod = self.fspath.pyimport(ensuresyspath=importmode)\n",
            "/usr/local/lib/python2.7/dist-packages/py/_path/local.py:701: in pyimport\n",
            "    __import__(modname)\n",
            "E     File \"/content/drive/My Drive/study/EffectivePython/chp.2/utility.py\", line 29\n",
            "E       print(f\"Example call `some_fn(2)` == {some_fn(2)}\")\n",
            "E                                                        ^\n",
            "E   SyntaxError: invalid syntax\u001b[0m\n",
            "!!!!!!!!!!!!!!!!!!! Interrupted: 1 errors during collection !!!!!!!!!!!!!!!!!!!!\n",
            "\u001b[1m\u001b[31m=========================== 1 error in 0.54 seconds ============================\u001b[0m\n"
          ],
          "name": "stdout"
        }
      ]
    },
    {
      "cell_type": "code",
      "metadata": {
        "id": "HPlikBNjfMzh"
      },
      "source": [
        ""
      ],
      "execution_count": null,
      "outputs": []
    },
    {
      "cell_type": "code",
      "metadata": {
        "id": "XIeoWXAhfM16"
      },
      "source": [
        ""
      ],
      "execution_count": null,
      "outputs": []
    },
    {
      "cell_type": "code",
      "metadata": {
        "id": "Pvx55ENLfM41"
      },
      "source": [
        ""
      ],
      "execution_count": null,
      "outputs": []
    },
    {
      "cell_type": "code",
      "metadata": {
        "id": "w93fDx7JfFte"
      },
      "source": [
        ""
      ],
      "execution_count": null,
      "outputs": []
    }
  ]
}