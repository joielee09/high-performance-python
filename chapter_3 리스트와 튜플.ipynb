{
  "nbformat": 4,
  "nbformat_minor": 0,
  "metadata": {
    "colab": {
      "name": "chapter 3",
      "provenance": [],
      "collapsed_sections": []
    },
    "kernelspec": {
      "name": "python3",
      "display_name": "Python 3"
    },
    "language_info": {
      "name": "python"
    }
  },
  "cells": [
    {
      "cell_type": "markdown",
      "metadata": {
        "id": "VhWkKx665J6u"
      },
      "source": [
        "# 3장 리스트와 튜플\n",
        "\n",
        "효율적인 프로그램을 작성하려면 자료구조에 대해 이해해야한다.\n",
        "**배열**(정해진 순서에 따라 데이터를 나열한 것)의 두 가지 자료구조가 있다.\n",
        "* 리스트: 저장하는 데이터, 배열의 크기를 변경할 수 있는 동적 데이터\n",
        "* 튜플: 고정된 변경 불가능한 정적 배열 (immutable) -> 런타임에 캐시를 사용해 사용할 때마다 커널에 메모리를 요청하지 않아도 된다."
      ]
    },
    {
      "cell_type": "code",
      "metadata": {
        "colab": {
          "base_uri": "https://localhost:8080/"
        },
        "id": "RNZxFJA0Jsyt",
        "outputId": "69f268f2-fc5a-4fbe-e391-4f03e6014717"
      },
      "source": [
        "import sys\n",
        "print(\"Python version\")\n",
        "print (sys.version)\n",
        "print(\"Version info.\")\n",
        "print (sys.version_info)"
      ],
      "execution_count": null,
      "outputs": [
        {
          "output_type": "stream",
          "text": [
            "Python version\n",
            "3.7.11 (default, Jul  3 2021, 18:01:19) \n",
            "[GCC 7.5.0]\n",
            "Version info.\n",
            "sys.version_info(major=3, minor=7, micro=11, releaselevel='final', serial=0)\n"
          ],
          "name": "stdout"
        }
      ]
    },
    {
      "cell_type": "markdown",
      "metadata": {
        "id": "EDDkZJ_h-yt1"
      },
      "source": [
        "---\n",
        "## 배열 생성\n",
        "\n",
        "주소값이 저장된다.\n"
      ]
    },
    {
      "cell_type": "code",
      "metadata": {
        "colab": {
          "base_uri": "https://localhost:8080/"
        },
        "id": "PIxcrpLQ49Bj",
        "outputId": "862ddf4a-59aa-42cc-c8f9-f7fd466b52fb"
      },
      "source": [
        "# 배열 생성: 시스템 메모리 블록 할당, 블록에는 실제 데이터의 \"주소 포인터 값\"(integer)이 저장됨\n",
        "\n",
        "%timeit l = list(range(10))"
      ],
      "execution_count": null,
      "outputs": [
        {
          "output_type": "stream",
          "text": [
            "The slowest run took 8.08 times longer than the fastest. This could mean that an intermediate result is being cached.\n",
            "1000000 loops, best of 5: 417 ns per loop\n"
          ],
          "name": "stdout"
        }
      ]
    },
    {
      "cell_type": "code",
      "metadata": {
        "colab": {
          "base_uri": "https://localhost:8080/"
        },
        "id": "EpWHWcr96QBk",
        "outputId": "37462b56-6c91-41d6-bc59-b09fb215ec21"
      },
      "source": [
        "%timeit l = list(range(10000000))"
      ],
      "execution_count": null,
      "outputs": [
        {
          "output_type": "stream",
          "text": [
            "1 loop, best of 5: 281 ms per loop\n"
          ],
          "name": "stdout"
        }
      ]
    },
    {
      "cell_type": "markdown",
      "metadata": {
        "id": "4c_yik7d6txP"
      },
      "source": [
        "---\n",
        "## 배열 탐색\n",
        "\n",
        "선형 탐색보다 더 빠른 탐색이 가능하다"
      ]
    },
    {
      "cell_type": "code",
      "metadata": {
        "id": "WSCW1A6F6n18"
      },
      "source": [
        "# 선형탐색: 시간복잡도 O(N)\n",
        "\n",
        "def linear_search(needle, array):\n",
        "  for idx, item in enumerate(array):\n",
        "    if item == needle:\n",
        "      return idx\n",
        "  return -1"
      ],
      "execution_count": null,
      "outputs": []
    },
    {
      "cell_type": "code",
      "metadata": {
        "id": "Seg0UjeD7eA3"
      },
      "source": [
        "# 정렬 후 이분탐색 O(NlogN) ~O(N^2LogN)\n",
        "# Tim sorting (팀정렬): 최적O(N) 최악 O(NlogN) 어떤 알고리즘을 적용하는 것이 가장 좋은지 최적의 휴리스틱을 찾는다. 삽입정렬과 병합정렬을 조합해 사용\n",
        "\n",
        "import timeit\n",
        "\n",
        "def binary_search(needle, haystack):\n",
        "    # imin and imax store the bounds of the haystack that we are currently\n",
        "    # considering.  This starts as the bounds of the haystack and slowly\n",
        "    # converges to surround the needle.\n",
        "    imin, imax = 0, len(haystack)\n",
        "    while True:\n",
        "        if imin >= imax:\n",
        "            return -1\n",
        "        midpoint = (imin + imax) // 2\n",
        "        if haystack[midpoint] > needle:\n",
        "            imax = midpoint\n",
        "        elif haystack[midpoint] < needle:\n",
        "            imin = midpoint + 1\n",
        "        else:\n",
        "            return midpoint\n",
        "\n",
        "\n",
        "if __name__ == \"__main__\":\n",
        "    setup = \"from __main__ import (binary_search, haystack, needle)\"\n",
        "    iterations = 10000\n",
        "\n",
        "    for haystack_size in (10000, 100000, 1000000):\n",
        "        haystack = range(haystack_size)\n",
        "        for needle in (1, 6000, 9000, 1000000):\n",
        "            index = binary_search(needle, haystack)\n",
        "            t = timeit.timeit(\n",
        "                stmt=\"binary_search(needle, haystack)\", setup=setup, number=iterations\n",
        "            )\n",
        "            print(\n",
        "                f\"Value {needle: <8} found in haystack of \"\n",
        "                f\"size {len(haystack): <8} at index \"\n",
        "                f\"{index: <8} in {t/iterations:.5e} seconds\"\n",
        "            )"
      ],
      "execution_count": null,
      "outputs": []
    },
    {
      "cell_type": "code",
      "metadata": {
        "colab": {
          "base_uri": "https://localhost:8080/"
        },
        "id": "NOzmOmV-86t0",
        "outputId": "a85071ed-26e4-471d-a764-9c1a940302e8"
      },
      "source": [
        "# 파이썬 표준라이브러리 bisect\n",
        "# 이진탐색 + 새로 삽잆 시에도 정렬 상태 유지\n",
        "\n",
        "import bisect\n",
        "import random\n",
        "\n",
        "def find_closest(haystack, needle):\n",
        "    # bisect.bisect_left will return the first value in the haystack\n",
        "    # that is greater than the needle\n",
        "    i = bisect.bisect_left(haystack, needle)\n",
        "    if i == len(haystack):\n",
        "        return i - 1\n",
        "    elif haystack[i] == needle:\n",
        "        return i\n",
        "    elif i > 0:\n",
        "        j = i - 1\n",
        "        # since we know the value is larger than needle (and vice versa for the\n",
        "        # value at j), we don't need to use absolute values here\n",
        "        if haystack[i] - needle > needle - haystack[j]:\n",
        "            return j\n",
        "    return i\n",
        "\n",
        "\n",
        "if __name__ == \"__main__\":\n",
        "    important_numbers = []\n",
        "    for i in range(10):\n",
        "        new_number = random.randint(0, 1000)\n",
        "        bisect.insort(important_numbers, new_number)\n",
        "\n",
        "    # important_numbers will already be in order because we inserted new elements\n",
        "    # with bisect.insort\n",
        "    print(important_numbers)\n",
        "    # > [14, 265, 496, 661, 683, 734, 881, 892, 973, 992]\n",
        "\n",
        "    closest_index = find_closest(important_numbers, -250)\n",
        "    print(f\"Closest value to -250: {important_numbers[closest_index]}\")\n",
        "    # > Closest value to -250: 14\n",
        "\n",
        "    closest_index = find_closest(important_numbers, 500)\n",
        "    print(f\"Closest value to 500: {important_numbers[closest_index]}\")\n",
        "    # > Closest value to 500: 496\n",
        "\n",
        "    closest_index = find_closest(important_numbers, 1100)\n",
        "    print(f\"Closest value to 1100: {important_numbers[closest_index]}\")\n",
        "    # > Closest value to 1100: 992\n"
      ],
      "execution_count": null,
      "outputs": [
        {
          "output_type": "stream",
          "text": [
            "[78, 92, 255, 287, 357, 574, 578, 620, 666, 953]\n",
            "Closest value to -250: 78\n",
            "Closest value to 500: 574\n",
            "Closest value to 1100: 953\n"
          ],
          "name": "stdout"
        }
      ]
    },
    {
      "cell_type": "markdown",
      "metadata": {
        "id": "DAhZ7YNGA3V2"
      },
      "source": [
        "---\n",
        "## 리스트의 동적배열\n",
        "\n",
        "**append()를 지원하며, 이 매서드를 사용하면 새로 메모리를 할당하면서 필요한 이상으로 메모리 블록을 할당한다.**\n",
        "\n",
        "fn() 과 fn2()를 비교해보면\n",
        "문장을 추가로 실행해야하고 메모리도 재할당해야하므로 전체 시간도 느리다. ( 9.7 ms : 13.9 ) 1.43배\n",
        "메모리도 더 필요하다 append를 이용해 1천 size 메모리를 만들면 실제로는 1천 6백만개에 해당하는 메모리를 할당한다. (0.391 MiB : 2.734 MiB)\n",
        "\n",
        "* peak memory:  the maximum amount of memory your process has used"
      ]
    },
    {
      "cell_type": "code",
      "metadata": {
        "id": "dB2s9Xmd7eFO"
      },
      "source": [
        "# M=(N>>3) + (3 if N<9 else 6)"
      ],
      "execution_count": null,
      "outputs": []
    },
    {
      "cell_type": "markdown",
      "metadata": {
        "id": "FKfQt0okHLMW"
      },
      "source": [
        "---\n",
        "append 와 리스트 내포 메모리 사용량과 실행시간 차이 비교"
      ]
    },
    {
      "cell_type": "code",
      "metadata": {
        "id": "HjLu6pdK7eHx"
      },
      "source": [
        "# run with $ py -m memory_profiler file.py \n",
        "\n",
        "def fn():\n",
        "    lis = [i*i for i in range(100000)]\n",
        "    return lis\n",
        "\n",
        "\n",
        "if __name__ == \"__main__\":\n",
        "    fn()"
      ],
      "execution_count": null,
      "outputs": []
    },
    {
      "cell_type": "code",
      "metadata": {
        "colab": {
          "base_uri": "https://localhost:8080/"
        },
        "id": "yHSx93AKNbi-",
        "outputId": "977810d4-312e-4e14-911f-d3256a74ff91"
      },
      "source": [
        "%memit fn()"
      ],
      "execution_count": null,
      "outputs": [
        {
          "output_type": "stream",
          "text": [
            "UsageError: Line magic function `%memit` not found.\n"
          ],
          "name": "stderr"
        }
      ]
    },
    {
      "cell_type": "markdown",
      "metadata": {
        "id": "n52IzrSNKqK-"
      },
      "source": [
        "\n",
        "```\n",
        "Line #    Mem usage    Increment  Occurences   Line Contents\n",
        "============================================================\n",
        "     3   40.309 MiB   40.309 MiB           1   @profile\n",
        "     4                                         def fn1():\n",
        "     5   44.461 MiB    0.391 MiB      100003       [i*i for i in range(100000)]\n",
        "     6   40.699 MiB   -3.762 MiB           1       return\n",
        "\n",
        "```"
      ]
    },
    {
      "cell_type": "code",
      "metadata": {
        "colab": {
          "base_uri": "https://localhost:8080/"
        },
        "id": "7oU6FsBhMUeW",
        "outputId": "d5ac6cca-94ba-435c-eb00-d5bea57a028a"
      },
      "source": [
        "%timeit fn()"
      ],
      "execution_count": null,
      "outputs": [
        {
          "output_type": "stream",
          "text": [
            "100 loops, best of 5: 9.7 ms per loop\n"
          ],
          "name": "stdout"
        }
      ]
    },
    {
      "cell_type": "code",
      "metadata": {
        "id": "VfbYpkAJKLvi"
      },
      "source": [
        "def fn2():\n",
        "    lis = []\n",
        "    for i in range(100000):\n",
        "        lis.append(i*2)\n",
        "    return lis\n",
        "\n",
        "if __name__ == \"__main__\":\n",
        "    fn2()"
      ],
      "execution_count": null,
      "outputs": []
    },
    {
      "cell_type": "code",
      "metadata": {
        "colab": {
          "base_uri": "https://localhost:8080/"
        },
        "id": "gqon-HzoN3pG",
        "outputId": "580e9527-8828-4561-da7d-9bdd400552d1"
      },
      "source": [
        "%memit fn2()"
      ],
      "execution_count": null,
      "outputs": [
        {
          "output_type": "stream",
          "text": [
            "UsageError: Line magic function `%memit` not found.\n"
          ],
          "name": "stderr"
        }
      ]
    },
    {
      "cell_type": "markdown",
      "metadata": {
        "id": "F5W0-g1XLRGV"
      },
      "source": [
        "```\n",
        "Line #    Mem usage    Increment  Occurences   Line Contents\n",
        "============================================================\n",
        "     8   40.699 MiB   40.699 MiB           1   @profile\n",
        "     9                                         def fn2():\n",
        "    10   40.699 MiB    0.000 MiB           1       lis = []\n",
        "    11   44.445 MiB    2.734 MiB      100001       for i in range(100000):\n",
        "    12   44.445 MiB    1.012 MiB      100000           lis.append(i*2)\n",
        "    13   44.445 MiB    0.000 MiB           1       return\n",
        "```"
      ]
    },
    {
      "cell_type": "code",
      "metadata": {
        "colab": {
          "base_uri": "https://localhost:8080/"
        },
        "id": "UfDG8C5ELVPm",
        "outputId": "c235787c-d0ae-474f-f1ce-05fab3cb60f6"
      },
      "source": [
        "%timeit fn2()"
      ],
      "execution_count": null,
      "outputs": [
        {
          "output_type": "stream",
          "text": [
            "100 loops, best of 5: 13.9 ms per loop\n"
          ],
          "name": "stdout"
        }
      ]
    },
    {
      "cell_type": "markdown",
      "metadata": {
        "id": "-83efXmVQjUA"
      },
      "source": [
        "---\n",
        "## 튜플: 정적배열\n",
        "\n",
        "**append() 지원하지 않고 생성된 후에 변경되지 않는다.**"
      ]
    },
    {
      "cell_type": "code",
      "metadata": {
        "colab": {
          "base_uri": "https://localhost:8080/"
        },
        "id": "o-HUqpfeLVSS",
        "outputId": "3f894d5c-161d-423a-efe1-582e1ab10dca"
      },
      "source": [
        "# append를 지원하지 않고 새로운 튜플을 생성한다\n",
        "\n",
        "t1=(1,2,3,4)\n",
        "t2=(1,2,3,4)\n",
        "t3=t1+t2\n",
        "\n",
        "t3"
      ],
      "execution_count": null,
      "outputs": [
        {
          "output_type": "execute_result",
          "data": {
            "text/plain": [
              "(1, 2, 3, 4, 1, 2, 3, 4)"
            ]
          },
          "metadata": {
            "tags": []
          },
          "execution_count": 33
        }
      ]
    },
    {
      "cell_type": "markdown",
      "metadata": {
        "id": "i_AfJuKrRpVk"
      },
      "source": [
        "크기 20 이하인 튜플은 GC 대상이 되지 않아 리소스를 캐싱할 수 있다.\n",
        "즉 크기 20개 이하의 튜플은 운영체제를 통하지 않으므로 훨씬 빠르게 생성된다."
      ]
    },
    {
      "cell_type": "code",
      "metadata": {
        "colab": {
          "base_uri": "https://localhost:8080/"
        },
        "id": "EV5JUlBkLVUe",
        "outputId": "c0927297-5ba1-4b67-f038-9c0c5a0b94fd"
      },
      "source": [
        "%timeit lis = [0,1,2,3,4,5,6,7,8,9]"
      ],
      "execution_count": null,
      "outputs": [
        {
          "output_type": "stream",
          "text": [
            "The slowest run took 8.91 times longer than the fastest. This could mean that an intermediate result is being cached.\n",
            "10000000 loops, best of 5: 119 ns per loop\n"
          ],
          "name": "stdout"
        }
      ]
    },
    {
      "cell_type": "code",
      "metadata": {
        "colab": {
          "base_uri": "https://localhost:8080/"
        },
        "id": "NQM25oLPLVXo",
        "outputId": "95d74535-f72e-423b-e5b7-bf453b3a27b9"
      },
      "source": [
        "%timeit t = (0,1,2,3,4,5,6,7,8,9)"
      ],
      "execution_count": null,
      "outputs": [
        {
          "output_type": "stream",
          "text": [
            "The slowest run took 51.80 times longer than the fastest. This could mean that an intermediate result is being cached.\n",
            "10000000 loops, best of 5: 22.5 ns per loop\n"
          ],
          "name": "stdout"
        }
      ]
    }
  ]
}